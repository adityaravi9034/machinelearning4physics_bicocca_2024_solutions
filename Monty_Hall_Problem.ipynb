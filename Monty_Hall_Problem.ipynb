{
  "cells": [
    {
      "cell_type": "markdown",
      "metadata": {
        "id": "OLEwpV_osjnU"
      },
      "source": [
        "# Simulate the Monty Hall Problem\n"
      ]
    },
    {
      "cell_type": "markdown",
      "metadata": {
        "id": "6s3ZxmrzsoVl"
      },
      "source": [
        "## Defining function to stimulate game"
      ]
    },
    {
      "cell_type": "code",
      "execution_count": 27,
      "metadata": {
        "id": "9JeaDpXQqrJH"
      },
      "outputs": [],
      "source": [
        "import random\n",
        "\n",
        "def simulate_game():\n",
        "    # Step 1: Simulate three doors\n",
        "    doors = ['car', 'goat', 'goat']\n",
        "    random.shuffle(doors)  # Shuffle the doors randomly\n",
        "\n",
        "    # Step 2: Simulate the three players\n",
        "    switcher_choice = random.randint(0, 2)  # Switcher's initial choice\n",
        "    stayer_choice = random.randint(0, 2)    # Conservative's initial choice\n",
        "    newcomer_choice = random.randint(0, 2)  # Newcomer's choice\n",
        "\n",
        "    # Host reveals a door with a goat that wasn't picked\n",
        "    revealed_door = random.choice([i for i in range(3) if i != switcher_choice and doors[i] == 'goat'])\n",
        "\n",
        "    # The switcher switches their choice to the other unchosen door\n",
        "    switcher_choice = next(i for i in range(3) if i != switcher_choice and i != revealed_door)\n",
        "\n",
        "    # Step 3: Determine the winners\n",
        "    switcher_win = doors[switcher_choice] == 'car'\n",
        "    stayer_win = doors[stayer_choice] == 'car'\n",
        "    newcomer_win = doors[newcomer_choice] == 'car'\n",
        "\n",
        "    return switcher_win, stayer_win, newcomer_win\n",
        "\n"
      ]
    },
    {
      "cell_type": "markdown",
      "metadata": {
        "id": "rilqXk88s0P1"
      },
      "source": [
        "## Repeat the simulation many times"
      ]
    },
    {
      "cell_type": "code",
      "execution_count": 28,
      "metadata": {
        "id": "nDtL0ri1sfHN"
      },
      "outputs": [],
      "source": [
        "# Step 4: Repeat the simulation many times\n",
        "num_simulations = 10000\n",
        "switcher_wins = 0\n",
        "stayer_wins = 0\n",
        "newcomer_wins = 0\n",
        "\n",
        "for _ in range(num_simulations):\n",
        "    switcher_win, stayer_win, newcomer_win = simulate_game()\n",
        "    switcher_wins += switcher_win\n",
        "    stayer_wins += stayer_win\n",
        "    newcomer_wins += newcomer_win\n",
        "\n",
        "\n"
      ]
    },
    {
      "cell_type": "markdown",
      "metadata": {
        "id": "MX_g7sMSs4L5"
      },
      "source": [
        "## Record who wins\n"
      ]
    },
    {
      "cell_type": "code",
      "execution_count": 29,
      "metadata": {
        "colab": {
          "base_uri": "https://localhost:8080/"
        },
        "id": "IhuAge_2s5bB",
        "outputId": "88eb5fff-94cf-4270-c298-c1767ba91110"
      },
      "outputs": [
        {
          "name": "stdout",
          "output_type": "stream",
          "text": [
            "Switcher wins: 6595 (65.95%)\n",
            "Stayer wins: 3279 (32.79%)\n",
            "Newcomer wins: 3280 (32.80%)\n"
          ]
        }
      ],
      "source": [
        "winners = {\n",
        "    \"Switcher\": switcher_wins,\n",
        "    \"Stayer\": stayer_wins,\n",
        "    \"Newcomer\": newcomer_wins\n",
        "}\n",
        "\n",
        "# Analyze the results\n",
        "switcher_win_percentage = switcher_wins / num_simulations * 100\n",
        "stayer_win_percentage = stayer_wins / num_simulations * 100\n",
        "newcomer_win_percentage = newcomer_wins / num_simulations * 100\n",
        "\n",
        "print(\"Switcher wins:\", switcher_wins, \"({:.2f}%)\".format(switcher_win_percentage))\n",
        "print(\"Stayer wins:\", stayer_wins, \"({:.2f}%)\".format(stayer_win_percentage))\n",
        "print(\"Newcomer wins:\", newcomer_wins, \"({:.2f}%)\".format(newcomer_win_percentage))\n"
      ]
    },
    {
      "cell_type": "markdown",
      "metadata": {
        "id": "5bTMnkVktEHd"
      },
      "source": [
        "## Print the results\n"
      ]
    },
    {
      "cell_type": "code",
      "execution_count": 30,
      "metadata": {
        "colab": {
          "base_uri": "https://localhost:8080/"
        },
        "id": "1YSk9f2btCoK",
        "outputId": "ab8cacb0-901a-4c44-9232-f1893e6ec082"
      },
      "outputs": [
        {
          "name": "stdout",
          "output_type": "stream",
          "text": [
            "Total wins:\n",
            "Switcher: 6595\n",
            "Stayer: 3279\n",
            "Newcomer: 3280\n"
          ]
        }
      ],
      "source": [
        "print(\"Total wins:\")\n",
        "for player, wins in winners.items():\n",
        "    print(f\"{player}: {wins}\")\n",
        "\n"
      ]
    },
    {
      "cell_type": "markdown",
      "metadata": {
        "id": "QHL7Vnn4tJ0D"
      },
      "source": [
        "## Determine the preferred player\n"
      ]
    },
    {
      "cell_type": "code",
      "execution_count": 31,
      "metadata": {
        "colab": {
          "base_uri": "https://localhost:8080/"
        },
        "id": "M0WTQNO_tI0Q",
        "outputId": "495c5241-5784-49e4-e346-b698e4e03b6b"
      },
      "outputs": [
        {
          "name": "stdout",
          "output_type": "stream",
          "text": [
            "\n",
            "Preferred Player: Switcher\n"
          ]
        }
      ],
      "source": [
        "preferred_player = max(winners, key=winners.get)\n",
        "print(\"\\nPreferred Player:\", preferred_player)"
      ]
    },
    {
      "cell_type": "markdown",
      "metadata": {
        "id": "8EnX1iiisHRs"
      },
      "source": [
        "**What would happen if you had 100 doors to choose from and the presenter opens 98 or them?**"
      ]
    },
    {
      "cell_type": "code",
      "execution_count": 32,
      "metadata": {
        "colab": {
          "base_uri": "https://localhost:8080/"
        },
        "id": "cOqRWdVRr5vC",
        "outputId": "a4a0c589-ec07-468e-e919-b616cbd45f42"
      },
      "outputs": [
        {
          "name": "stdout",
          "output_type": "stream",
          "text": [
            "Total wins:\n",
            "Switcher: 9914\n",
            "Stayer: 93\n",
            "Newcomer: 90\n",
            "\n",
            "Preferred Player: Switcher\n"
          ]
        }
      ],
      "source": [
        "import random\n",
        "\n",
        "def simulate_game(num_doors):\n",
        "    # Step 1: Simulate the doors\n",
        "    doors = ['car'] + ['goat'] * (num_doors - 1)\n",
        "    random.shuffle(doors)  # Shuffle the doors randomly\n",
        "\n",
        "    # Step 2: Simulate the three players\n",
        "    switcher_choice = random.randint(0, num_doors - 1)  # Switcher's initial choice\n",
        "    stayer_choice = random.randint(0, num_doors - 1)    # Conservative's initial choice\n",
        "    newcomer_choice = random.randint(0, num_doors - 1)  # Newcomer's choice\n",
        "\n",
        "    # Host reveals 98 goat doors that weren't picked\n",
        "    unchosen_goat_doors = [i for i in range(num_doors) if i != switcher_choice and doors[i] == 'goat']\n",
        "    revealed_doors = random.sample(unchosen_goat_doors, min(98, len(unchosen_goat_doors)))\n",
        "\n",
        "    # The switcher switches their choice to one of the unchosen doors\n",
        "    switcher_choice = next(i for i in range(num_doors) if i != switcher_choice and i not in revealed_doors)\n",
        "\n",
        "    # Step 3: Determine the winners\n",
        "    switcher_win = doors[switcher_choice] == 'car'\n",
        "    stayer_win = doors[stayer_choice] == 'car'\n",
        "    newcomer_win = doors[newcomer_choice] == 'car'\n",
        "\n",
        "    return switcher_win, stayer_win, newcomer_win\n",
        "\n",
        "# Step 4: Repeat the simulation many times\n",
        "num_simulations = 10000\n",
        "switcher_wins = 0\n",
        "stayer_wins = 0\n",
        "newcomer_wins = 0\n",
        "\n",
        "for _ in range(num_simulations):\n",
        "    switcher_win, stayer_win, newcomer_win = simulate_game(100)\n",
        "    switcher_wins += switcher_win\n",
        "    stayer_wins += stayer_win\n",
        "    newcomer_wins += newcomer_win\n",
        "\n",
        "# Record who wins\n",
        "winners = {\n",
        "    \"Switcher\": switcher_wins,\n",
        "    \"Stayer\": stayer_wins,\n",
        "    \"Newcomer\": newcomer_wins\n",
        "}\n",
        "\n",
        "# Print the results\n",
        "print(\"Total wins:\")\n",
        "for player, wins in winners.items():\n",
        "    print(f\"{player}: {wins}\")\n",
        "\n",
        "# Determine the preferred player\n",
        "preferred_player = max(winners, key=winners.get)\n",
        "print(\"\\nPreferred Player:\", preferred_player)\n"
      ]
    },
    {
      "cell_type": "markdown",
      "metadata": {},
      "source": [
        "Giulia's final comment: Ok!"
      ]
    },
    {
      "cell_type": "markdown",
      "metadata": {},
      "source": []
    }
  ],
  "metadata": {
    "colab": {
      "provenance": []
    },
    "kernelspec": {
      "display_name": "Python 3",
      "name": "python3"
    },
    "language_info": {
      "name": "python"
    }
  },
  "nbformat": 4,
  "nbformat_minor": 0
}
